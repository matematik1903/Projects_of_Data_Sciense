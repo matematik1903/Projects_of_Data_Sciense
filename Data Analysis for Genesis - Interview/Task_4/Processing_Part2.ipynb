{
 "cells": [
  {
   "cell_type": "code",
   "execution_count": 2,
   "metadata": {},
   "outputs": [
    {
     "data": {
      "text/html": [
       "<div>\n",
       "<style scoped>\n",
       "    .dataframe tbody tr th:only-of-type {\n",
       "        vertical-align: middle;\n",
       "    }\n",
       "\n",
       "    .dataframe tbody tr th {\n",
       "        vertical-align: top;\n",
       "    }\n",
       "\n",
       "    .dataframe thead th {\n",
       "        text-align: right;\n",
       "    }\n",
       "</style>\n",
       "<table border=\"1\" class=\"dataframe\">\n",
       "  <thead>\n",
       "    <tr style=\"text-align: right;\">\n",
       "      <th></th>\n",
       "      <th>id;id_user;amount;date_order</th>\n",
       "    </tr>\n",
       "  </thead>\n",
       "  <tbody>\n",
       "    <tr>\n",
       "      <th>1;821299;2</th>\n",
       "      <td>99;01.06.2016 0:16</td>\n",
       "    </tr>\n",
       "    <tr>\n",
       "      <th>2;821755;2</th>\n",
       "      <td>99;01.06.2016 4:08</td>\n",
       "    </tr>\n",
       "    <tr>\n",
       "      <th>3;821940;2</th>\n",
       "      <td>99;01.06.2016 5:30</td>\n",
       "    </tr>\n",
       "    <tr>\n",
       "      <th>4;821940;9</th>\n",
       "      <td>99;01.06.2016 5:34</td>\n",
       "    </tr>\n",
       "    <tr>\n",
       "      <th>5;822112;2</th>\n",
       "      <td>99;01.06.2016 7:29</td>\n",
       "    </tr>\n",
       "  </tbody>\n",
       "</table>\n",
       "</div>"
      ],
      "text/plain": [
       "           id;id_user;amount;date_order\n",
       "1;821299;2           99;01.06.2016 0:16\n",
       "2;821755;2           99;01.06.2016 4:08\n",
       "3;821940;2           99;01.06.2016 5:30\n",
       "4;821940;9           99;01.06.2016 5:34\n",
       "5;822112;2           99;01.06.2016 7:29"
      ]
     },
     "execution_count": 2,
     "metadata": {},
     "output_type": "execute_result"
    }
   ],
   "source": [
    "import pandas as pd\n",
    "\n",
    "df = pd.read_csv('test.csv')\n",
    "df.head()"
   ]
  },
  {
   "cell_type": "code",
   "execution_count": 4,
   "metadata": {},
   "outputs": [
    {
     "data": {
      "text/plain": [
       "Index(['id;id_user;amount;date_order'], dtype='object')"
      ]
     },
     "execution_count": 4,
     "metadata": {},
     "output_type": "execute_result"
    }
   ],
   "source": [
    "df.columns"
   ]
  },
  {
   "cell_type": "code",
   "execution_count": null,
   "metadata": {},
   "outputs": [],
   "source": []
  }
 ],
 "metadata": {
  "kernelspec": {
   "display_name": "Python 3",
   "language": "python",
   "name": "python3"
  },
  "language_info": {
   "codemirror_mode": {
    "name": "ipython",
    "version": 3
   },
   "file_extension": ".py",
   "mimetype": "text/x-python",
   "name": "python",
   "nbconvert_exporter": "python",
   "pygments_lexer": "ipython3",
   "version": "3.7.1rc1"
  }
 },
 "nbformat": 4,
 "nbformat_minor": 2
}
